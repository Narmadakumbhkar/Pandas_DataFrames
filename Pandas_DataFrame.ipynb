{
 "cells": [
  {
   "cell_type": "markdown",
   "id": "0e8556a4",
   "metadata": {},
   "source": [
    "# Introduction to Pandas:-"
   ]
  },
  {
   "cell_type": "markdown",
   "id": "07c43fe4",
   "metadata": {},
   "source": [
    "When working with tabular data, such as data stored in spreadsheets or databases, pandas is the right tool for you. pandas will help you to explore, clean, and process your data. In pandas, a data table is called a DataFrame\n",
    "\n"
   ]
  },
  {
   "attachments": {
    "image.png": {
     "image/png": "[encoded data removed]"
    }
   },
   "cell_type": "markdown",
   "id": "5dda064f",
   "metadata": {},
   "source": [
    "![image.png](attachment:image.png)"
   ]
  },
  {
   "cell_type": "markdown",
   "id": "84ae979e",
   "metadata": {},
   "source": [
    " A DataFrame is a 2-dimensional data structure that can store data of different types (including characters, integers, floating point values, categorical data and more) in columns. It is similar to a spreadsheet, a SQL table or the data.frame in R."
   ]
  },
  {
   "cell_type": "markdown",
   "id": "7b81a635",
   "metadata": {},
   "source": [
    "# Load Pandas:"
   ]
  },
  {
   "cell_type": "markdown",
   "id": "9f4a55fe",
   "metadata": {},
   "source": [
    "To load the pandas package and start working with it, import the package. The community agreed alias for pandas is pd, so loading pandas as pd is assumed standard practice for all of the pandas documentation."
   ]
  },
  {
   "cell_type": "code",
   "execution_count": 7,
   "id": "b5a452b3",
   "metadata": {},
   "outputs": [],
   "source": [
    "import pandas as pd"
   ]
  },
  {
   "cell_type": "markdown",
   "id": "e04c2dc2",
   "metadata": {},
   "source": [
    "# Creating a DataFrame"
   ]
  },
  {
   "cell_type": "code",
   "execution_count": 8,
   "id": "c77754a2",
   "metadata": {
    "scrolled": true
   },
   "outputs": [
    {
     "data": {
      "text/html": [
       "<div>\n",
       "<style scoped>\n",
       "    .dataframe tbody tr th:only-of-type {\n",
       "        vertical-align: middle;\n",
       "    }\n",
       "\n",
       "    .dataframe tbody tr th {\n",
       "        vertical-align: top;\n",
       "    }\n",
       "\n",
       "    .dataframe thead th {\n",
       "        text-align: right;\n",
       "    }\n",
       "</style>\n",
       "<table border=\"1\" class=\"dataframe\">\n",
       "  <thead>\n",
       "    <tr style=\"text-align: right;\">\n",
       "      <th></th>\n",
       "      <th>Name</th>\n",
       "      <th>Age</th>\n",
       "      <th>Experience</th>\n",
       "    </tr>\n",
       "  </thead>\n",
       "  <tbody>\n",
       "    <tr>\n",
       "      <th>0</th>\n",
       "      <td>Rohit</td>\n",
       "      <td>30</td>\n",
       "      <td>5</td>\n",
       "    </tr>\n",
       "    <tr>\n",
       "      <th>1</th>\n",
       "      <td>Sachin</td>\n",
       "      <td>40</td>\n",
       "      <td>8</td>\n",
       "    </tr>\n",
       "    <tr>\n",
       "      <th>2</th>\n",
       "      <td>Pinki</td>\n",
       "      <td>50</td>\n",
       "      <td>11</td>\n",
       "    </tr>\n",
       "    <tr>\n",
       "      <th>3</th>\n",
       "      <td>Nikki</td>\n",
       "      <td>60</td>\n",
       "      <td>14</td>\n",
       "    </tr>\n",
       "    <tr>\n",
       "      <th>4</th>\n",
       "      <td>kavya</td>\n",
       "      <td>70</td>\n",
       "      <td>17</td>\n",
       "    </tr>\n",
       "  </tbody>\n",
       "</table>\n",
       "</div>"
      ],
      "text/plain": [
       "     Name  Age  Experience\n",
       "0   Rohit   30           5\n",
       "1  Sachin   40           8\n",
       "2   Pinki   50          11\n",
       "3   Nikki   60          14\n",
       "4   kavya   70          17"
      ]
     },
     "execution_count": 8,
     "metadata": {},
     "output_type": "execute_result"
    }
   ],
   "source": [
    "# Mnemonic name for DataFrame df\n",
    "\n",
    "df=pd.DataFrame({\n",
    "    'Name':['Rohit','Sachin','Pinki','Nikki','kavya'],\n",
    "    'Age':[i for i in range(30,80,10)],\n",
    "    'Experience':[i for i in range(5,18,3)]})\n",
    "\n",
    "df"
   ]
  },
  {
   "cell_type": "markdown",
   "id": "a5bcd056",
   "metadata": {},
   "source": [
    "Notice that the inferred dtype is int64 & object."
   ]
  },
  {
   "cell_type": "code",
   "execution_count": 9,
   "id": "5f62e4ea",
   "metadata": {},
   "outputs": [
    {
     "data": {
      "text/plain": [
       "Name          object\n",
       "Age            int64\n",
       "Experience     int64\n",
       "dtype: object"
      ]
     },
     "execution_count": 9,
     "metadata": {},
     "output_type": "execute_result"
    }
   ],
   "source": [
    "df.dtypes"
   ]
  },
  {
   "cell_type": "markdown",
   "id": "fc278d8a",
   "metadata": {},
   "source": [
    "To enforce a single dtype:"
   ]
  },
  {
   "cell_type": "code",
   "execution_count": 10,
   "id": "336299cb",
   "metadata": {},
   "outputs": [
    {
     "data": {
      "text/plain": [
       "Name          object\n",
       "Age           object\n",
       "Experience    object\n",
       "dtype: object"
      ]
     },
     "execution_count": 10,
     "metadata": {},
     "output_type": "execute_result"
    }
   ],
   "source": [
    "import numpy as np\n",
    "\n",
    "df=pd.DataFrame({\n",
    "    'Name':['simran','Rohit','sacchi','Nikku','Kabir'],\n",
    "    'Age':[i for i in range(30,80,10)],\n",
    "    'Experience':[i for i in range(5,18,3)]},dtype=np.str0)\n",
    "\n",
    "df.dtypes"
   ]
  },
  {
   "cell_type": "markdown",
   "id": "feaa7a25",
   "metadata": {},
   "source": [
    "Constructing DataFrame from a dictionary including Series:"
   ]
  },
  {
   "cell_type": "code",
   "execution_count": 11,
   "id": "2b44aeb1",
   "metadata": {},
   "outputs": [
    {
     "data": {
      "text/html": [
       "<div>\n",
       "<style scoped>\n",
       "    .dataframe tbody tr th:only-of-type {\n",
       "        vertical-align: middle;\n",
       "    }\n",
       "\n",
       "    .dataframe tbody tr th {\n",
       "        vertical-align: top;\n",
       "    }\n",
       "\n",
       "    .dataframe thead th {\n",
       "        text-align: right;\n",
       "    }\n",
       "</style>\n",
       "<table border=\"1\" class=\"dataframe\">\n",
       "  <thead>\n",
       "    <tr style=\"text-align: right;\">\n",
       "      <th></th>\n",
       "      <th>Name</th>\n",
       "      <th>Age</th>\n",
       "      <th>Experience</th>\n",
       "    </tr>\n",
       "  </thead>\n",
       "  <tbody>\n",
       "    <tr>\n",
       "      <th>0</th>\n",
       "      <td>Rakhi</td>\n",
       "      <td>30</td>\n",
       "      <td>5</td>\n",
       "    </tr>\n",
       "    <tr>\n",
       "      <th>1</th>\n",
       "      <td>Prachi</td>\n",
       "      <td>40</td>\n",
       "      <td>8</td>\n",
       "    </tr>\n",
       "    <tr>\n",
       "      <th>2</th>\n",
       "      <td>kiram</td>\n",
       "      <td>50</td>\n",
       "      <td>11</td>\n",
       "    </tr>\n",
       "    <tr>\n",
       "      <th>3</th>\n",
       "      <td>Rohit</td>\n",
       "      <td>60</td>\n",
       "      <td>14</td>\n",
       "    </tr>\n",
       "    <tr>\n",
       "      <th>4</th>\n",
       "      <td>chikku</td>\n",
       "      <td>70</td>\n",
       "      <td>17</td>\n",
       "    </tr>\n",
       "  </tbody>\n",
       "</table>\n",
       "</div>"
      ],
      "text/plain": [
       "     Name  Age  Experience\n",
       "0   Rakhi   30           5\n",
       "1  Prachi   40           8\n",
       "2   kiram   50          11\n",
       "3   Rohit   60          14\n",
       "4  chikku   70          17"
      ]
     },
     "execution_count": 11,
     "metadata": {},
     "output_type": "execute_result"
    }
   ],
   "source": [
    "df=pd.DataFrame({\n",
    "    'Name':['Rakhi','Prachi','kiram','Rohit','chikku'],\n",
    "    'Age':[i for i in range(30,80,10)],\n",
    "    'Experience':pd.Series([i for i in range(5,18,3)])})\n",
    "\n",
    "df"
   ]
  },
  {
   "cell_type": "markdown",
   "id": "21af170a",
   "metadata": {},
   "source": [
    "Constructing DataFrame from numpy ndarray:"
   ]
  },
  {
   "cell_type": "code",
   "execution_count": 12,
   "id": "21f0573e",
   "metadata": {},
   "outputs": [
    {
     "data": {
      "text/html": [
       "<div>\n",
       "<style scoped>\n",
       "    .dataframe tbody tr th:only-of-type {\n",
       "        vertical-align: middle;\n",
       "    }\n",
       "\n",
       "    .dataframe tbody tr th {\n",
       "        vertical-align: top;\n",
       "    }\n",
       "\n",
       "    .dataframe thead th {\n",
       "        text-align: right;\n",
       "    }\n",
       "</style>\n",
       "<table border=\"1\" class=\"dataframe\">\n",
       "  <thead>\n",
       "    <tr style=\"text-align: right;\">\n",
       "      <th></th>\n",
       "      <th>gingerleaf</th>\n",
       "      <th>spermophile</th>\n",
       "      <th>sesquialteral</th>\n",
       "      <th>pungent</th>\n",
       "      <th>inocarpus</th>\n",
       "      <th>paleoclimatological</th>\n",
       "      <th>sulphostannite</th>\n",
       "      <th>chorometry</th>\n",
       "      <th>unspurred</th>\n",
       "      <th>ghostology</th>\n",
       "    </tr>\n",
       "  </thead>\n",
       "  <tbody>\n",
       "    <tr>\n",
       "      <th>0</th>\n",
       "      <td>345</td>\n",
       "      <td>940</td>\n",
       "      <td>295</td>\n",
       "      <td>292</td>\n",
       "      <td>620</td>\n",
       "      <td>885</td>\n",
       "      <td>348</td>\n",
       "      <td>712</td>\n",
       "      <td>102</td>\n",
       "      <td>331</td>\n",
       "    </tr>\n",
       "    <tr>\n",
       "      <th>1</th>\n",
       "      <td>530</td>\n",
       "      <td>884</td>\n",
       "      <td>247</td>\n",
       "      <td>314</td>\n",
       "      <td>854</td>\n",
       "      <td>999</td>\n",
       "      <td>761</td>\n",
       "      <td>673</td>\n",
       "      <td>676</td>\n",
       "      <td>249</td>\n",
       "    </tr>\n",
       "    <tr>\n",
       "      <th>2</th>\n",
       "      <td>244</td>\n",
       "      <td>143</td>\n",
       "      <td>650</td>\n",
       "      <td>913</td>\n",
       "      <td>391</td>\n",
       "      <td>587</td>\n",
       "      <td>377</td>\n",
       "      <td>418</td>\n",
       "      <td>786</td>\n",
       "      <td>324</td>\n",
       "    </tr>\n",
       "    <tr>\n",
       "      <th>3</th>\n",
       "      <td>211</td>\n",
       "      <td>908</td>\n",
       "      <td>658</td>\n",
       "      <td>728</td>\n",
       "      <td>916</td>\n",
       "      <td>220</td>\n",
       "      <td>191</td>\n",
       "      <td>971</td>\n",
       "      <td>127</td>\n",
       "      <td>87</td>\n",
       "    </tr>\n",
       "    <tr>\n",
       "      <th>4</th>\n",
       "      <td>657</td>\n",
       "      <td>552</td>\n",
       "      <td>184</td>\n",
       "      <td>559</td>\n",
       "      <td>496</td>\n",
       "      <td>608</td>\n",
       "      <td>275</td>\n",
       "      <td>480</td>\n",
       "      <td>703</td>\n",
       "      <td>981</td>\n",
       "    </tr>\n",
       "    <tr>\n",
       "      <th>5</th>\n",
       "      <td>116</td>\n",
       "      <td>579</td>\n",
       "      <td>757</td>\n",
       "      <td>85</td>\n",
       "      <td>924</td>\n",
       "      <td>289</td>\n",
       "      <td>924</td>\n",
       "      <td>131</td>\n",
       "      <td>264</td>\n",
       "      <td>144</td>\n",
       "    </tr>\n",
       "    <tr>\n",
       "      <th>6</th>\n",
       "      <td>728</td>\n",
       "      <td>346</td>\n",
       "      <td>191</td>\n",
       "      <td>804</td>\n",
       "      <td>609</td>\n",
       "      <td>623</td>\n",
       "      <td>783</td>\n",
       "      <td>745</td>\n",
       "      <td>786</td>\n",
       "      <td>977</td>\n",
       "    </tr>\n",
       "    <tr>\n",
       "      <th>7</th>\n",
       "      <td>33</td>\n",
       "      <td>639</td>\n",
       "      <td>765</td>\n",
       "      <td>98</td>\n",
       "      <td>924</td>\n",
       "      <td>260</td>\n",
       "      <td>983</td>\n",
       "      <td>532</td>\n",
       "      <td>689</td>\n",
       "      <td>142</td>\n",
       "    </tr>\n",
       "    <tr>\n",
       "      <th>8</th>\n",
       "      <td>405</td>\n",
       "      <td>289</td>\n",
       "      <td>157</td>\n",
       "      <td>795</td>\n",
       "      <td>18</td>\n",
       "      <td>252</td>\n",
       "      <td>388</td>\n",
       "      <td>363</td>\n",
       "      <td>581</td>\n",
       "      <td>761</td>\n",
       "    </tr>\n",
       "    <tr>\n",
       "      <th>9</th>\n",
       "      <td>58</td>\n",
       "      <td>473</td>\n",
       "      <td>542</td>\n",
       "      <td>962</td>\n",
       "      <td>332</td>\n",
       "      <td>373</td>\n",
       "      <td>443</td>\n",
       "      <td>470</td>\n",
       "      <td>406</td>\n",
       "      <td>117</td>\n",
       "    </tr>\n",
       "  </tbody>\n",
       "</table>\n",
       "</div>"
      ],
      "text/plain": [
       "   gingerleaf  spermophile  sesquialteral  pungent  inocarpus  \\\n",
       "0         345          940            295      292        620   \n",
       "1         530          884            247      314        854   \n",
       "2         244          143            650      913        391   \n",
       "3         211          908            658      728        916   \n",
       "4         657          552            184      559        496   \n",
       "5         116          579            757       85        924   \n",
       "6         728          346            191      804        609   \n",
       "7          33          639            765       98        924   \n",
       "8         405          289            157      795         18   \n",
       "9          58          473            542      962        332   \n",
       "\n",
       "   paleoclimatological  sulphostannite  chorometry  unspurred  ghostology  \n",
       "0                  885             348         712        102         331  \n",
       "1                  999             761         673        676         249  \n",
       "2                  587             377         418        786         324  \n",
       "3                  220             191         971        127          87  \n",
       "4                  608             275         480        703         981  \n",
       "5                  289             924         131        264         144  \n",
       "6                  623             783         745        786         977  \n",
       "7                  260             983         532        689         142  \n",
       "8                  252             388         363        581         761  \n",
       "9                  373             443         470        406         117  "
      ]
     },
     "execution_count": 12,
     "metadata": {},
     "output_type": "execute_result"
    }
   ],
   "source": [
    "# Genrate Random Column name\n",
    "from random_word import RandomWords\n",
    "r = RandomWords()\n",
    "\n",
    "labels=[r.get_random_word() for i in range(10)]\n",
    "arr=np.random.randint(1,1000,100).reshape(10,10)\n",
    "df=pd.DataFrame(arr,columns=labels)\n",
    "\n",
    "df"
   ]
  },
  {
   "cell_type": "code",
   "execution_count": 13,
   "id": "2414a4a7",
   "metadata": {},
   "outputs": [
    {
     "name": "stdout",
     "output_type": "stream",
     "text": [
      "Requirement already satisfied: random-word in c:\\users\\kumbh\\anaconda3\\lib\\site-packages (1.0.11)\n",
      "Requirement already satisfied: pytest in c:\\users\\kumbh\\anaconda3\\lib\\site-packages (from random-word) (7.1.1)\n",
      "Requirement already satisfied: requests in c:\\users\\kumbh\\anaconda3\\lib\\site-packages (from random-word) (2.27.1)\n",
      "Requirement already satisfied: pyyaml in c:\\users\\kumbh\\anaconda3\\lib\\site-packages (from random-word) (6.0)\n",
      "Requirement already satisfied: attrs>=19.2.0 in c:\\users\\kumbh\\anaconda3\\lib\\site-packages (from pytest->random-word) (21.4.0)\n",
      "Requirement already satisfied: iniconfig in c:\\users\\kumbh\\anaconda3\\lib\\site-packages (from pytest->random-word) (1.1.1)\n",
      "Requirement already satisfied: packaging in c:\\users\\kumbh\\anaconda3\\lib\\site-packages (from pytest->random-word) (21.3)\n",
      "Requirement already satisfied: pluggy<2.0,>=0.12 in c:\\users\\kumbh\\anaconda3\\lib\\site-packages (from pytest->random-word) (1.0.0)\n",
      "Requirement already satisfied: py>=1.8.2 in c:\\users\\kumbh\\anaconda3\\lib\\site-packages (from pytest->random-word) (1.11.0)\n",
      "Requirement already satisfied: tomli>=1.0.0 in c:\\users\\kumbh\\anaconda3\\lib\\site-packages (from pytest->random-word) (1.2.2)\n",
      "Requirement already satisfied: atomicwrites>=1.0 in c:\\users\\kumbh\\anaconda3\\lib\\site-packages (from pytest->random-word) (1.4.0)\n",
      "Requirement already satisfied: colorama in c:\\users\\kumbh\\anaconda3\\lib\\site-packages (from pytest->random-word) (0.4.4)\n",
      "Requirement already satisfied: pyparsing!=3.0.5,>=2.0.2 in c:\\users\\kumbh\\anaconda3\\lib\\site-packages (from packaging->pytest->random-word) (3.0.4)\n",
      "Requirement already satisfied: urllib3<1.27,>=1.21.1 in c:\\users\\kumbh\\anaconda3\\lib\\site-packages (from requests->random-word) (1.26.9)\n",
      "Requirement already satisfied: idna<4,>=2.5 in c:\\users\\kumbh\\anaconda3\\lib\\site-packages (from requests->random-word) (3.3)\n",
      "Requirement already satisfied: charset-normalizer~=2.0.0 in c:\\users\\kumbh\\anaconda3\\lib\\site-packages (from requests->random-word) (2.0.4)\n",
      "Requirement already satisfied: certifi>=2017.4.17 in c:\\users\\kumbh\\anaconda3\\lib\\site-packages (from requests->random-word) (2021.10.8)\n",
      "Note: you may need to restart the kernel to use updated packages.\n"
     ]
    }
   ],
   "source": [
    "pip install random-word"
   ]
  },
  {
   "cell_type": "markdown",
   "id": "f6ea9291",
   "metadata": {},
   "source": [
    "# Attributes"
   ]
  },
  {
   "cell_type": "markdown",
   "id": "199f8dc0",
   "metadata": {},
   "source": [
    "## 1. 𝓓𝓪𝓽𝓪𝓕𝓻𝓪𝓶𝓮.𝓪𝓽\n",
    "\n"
   ]
  },
  {
   "cell_type": "markdown",
   "id": "df20fe27",
   "metadata": {},
   "source": [
    "Access a single value for a row/column label pair.\n",
    "\n",
    "Similar to loc, in that both provide label-based lookups. Use at if you only need to get or set a single value in a DataFrame or Series.\n",
    "\n"
   ]
  },
  {
   "cell_type": "code",
   "execution_count": 32,
   "id": "7abddca5",
   "metadata": {},
   "outputs": [],
   "source": [
    "#df.at[0,'lathery']"
   ]
  },
  {
   "cell_type": "markdown",
   "id": "536f70f8",
   "metadata": {},
   "source": [
    "# 2.𝓓𝓪𝓽𝓪𝓕𝓻𝓪𝓶𝓮.𝓪𝔁𝓮𝓼"
   ]
  },
  {
   "cell_type": "markdown",
   "id": "47ef0d48",
   "metadata": {},
   "source": [
    "Return a list representing the axes of the DataFrame.\n",
    "\n",
    "It has the row axis labels and column axis labels as the only members. They are returned in that order."
   ]
  },
  {
   "cell_type": "code",
   "execution_count": 16,
   "id": "c1775510",
   "metadata": {},
   "outputs": [
    {
     "data": {
      "text/plain": [
       "[RangeIndex(start=0, stop=10, step=1),\n",
       " Index(['gingerleaf', 'spermophile', 'sesquialteral', 'pungent', 'inocarpus',\n",
       "        'paleoclimatological', 'sulphostannite', 'chorometry', 'unspurred',\n",
       "        'ghostology'],\n",
       "       dtype='object')]"
      ]
     },
     "execution_count": 16,
     "metadata": {},
     "output_type": "execute_result"
    }
   ],
   "source": [
    "df.axes"
   ]
  },
  {
   "cell_type": "markdown",
   "id": "17bb0c2e",
   "metadata": {},
   "source": [
    "# 3.𝓓𝓪𝓽𝓪𝓕𝓻𝓪𝓶𝓮.𝓬𝓸𝓵𝓾𝓶𝓷𝓼"
   ]
  },
  {
   "cell_type": "raw",
   "id": "65d01d09",
   "metadata": {},
   "source": [
    "The column labels of the DataFrame."
   ]
  },
  {
   "cell_type": "code",
   "execution_count": 17,
   "id": "9e642321",
   "metadata": {},
   "outputs": [
    {
     "data": {
      "text/plain": [
       "Index(['gingerleaf', 'spermophile', 'sesquialteral', 'pungent', 'inocarpus',\n",
       "       'paleoclimatological', 'sulphostannite', 'chorometry', 'unspurred',\n",
       "       'ghostology'],\n",
       "      dtype='object')"
      ]
     },
     "execution_count": 17,
     "metadata": {},
     "output_type": "execute_result"
    }
   ],
   "source": [
    "df.columns"
   ]
  },
  {
   "cell_type": "markdown",
   "id": "5b8807ab",
   "metadata": {},
   "source": [
    "# 4.𝓓𝓪𝓽𝓪𝓕𝓻𝓪𝓶𝓮.𝓭𝓽𝔂𝓹𝓮𝓼"
   ]
  },
  {
   "cell_type": "raw",
   "id": "61278471",
   "metadata": {},
   "source": [
    "Return the dtypes in the DataFrame.\n",
    "\n",
    "This returns a Series with the data type of each column. The result’s index is the original DataFrame’s columns. Columns with mixed types are stored with the object dtype.\n",
    "\n"
   ]
  },
  {
   "cell_type": "code",
   "execution_count": 18,
   "id": "a09aa4d9",
   "metadata": {},
   "outputs": [
    {
     "data": {
      "text/plain": [
       "gingerleaf             int32\n",
       "spermophile            int32\n",
       "sesquialteral          int32\n",
       "pungent                int32\n",
       "inocarpus              int32\n",
       "paleoclimatological    int32\n",
       "sulphostannite         int32\n",
       "chorometry             int32\n",
       "unspurred              int32\n",
       "ghostology             int32\n",
       "dtype: object"
      ]
     },
     "execution_count": 18,
     "metadata": {},
     "output_type": "execute_result"
    }
   ],
   "source": [
    "df.dtypes"
   ]
  },
  {
   "cell_type": "markdown",
   "id": "058d7d8d",
   "metadata": {},
   "source": [
    "# 5.𝓓𝓪𝓽𝓪𝓕𝓻𝓪𝓶𝓮.𝓮𝓶𝓹𝓽𝔂"
   ]
  },
  {
   "cell_type": "raw",
   "id": "df99f2dd",
   "metadata": {},
   "source": [
    "Checks if a Series/DataFrame is completely empty"
   ]
  },
  {
   "cell_type": "code",
   "execution_count": 19,
   "id": "66fc4c40",
   "metadata": {},
   "outputs": [
    {
     "data": {
      "text/plain": [
       "False"
      ]
     },
     "execution_count": 19,
     "metadata": {},
     "output_type": "execute_result"
    }
   ],
   "source": [
    "df.empty"
   ]
  },
  {
   "cell_type": "markdown",
   "id": "bab0ac5c",
   "metadata": {},
   "source": [
    "# 6.𝓓𝓪𝓽𝓪𝓕𝓻𝓪𝓶𝓮.𝓲𝓪𝓽"
   ]
  },
  {
   "cell_type": "raw",
   "id": "515acc79",
   "metadata": {},
   "source": [
    "Access a single value for a row/column pair by integer position.\n",
    "\n",
    "Similar to iloc, in that both provide integer-based lookups. Use iat if you only need to get or set a single value in a DataFrame or Series."
   ]
  },
  {
   "cell_type": "code",
   "execution_count": 20,
   "id": "4ad8ab0f",
   "metadata": {},
   "outputs": [
    {
     "data": {
      "text/plain": [
       "345"
      ]
     },
     "execution_count": 20,
     "metadata": {},
     "output_type": "execute_result"
    }
   ],
   "source": [
    "df.iat[0,0]"
   ]
  },
  {
   "cell_type": "markdown",
   "id": "9bc3215e",
   "metadata": {},
   "source": [
    "# 7.𝓓𝓪𝓽𝓪𝓕𝓻𝓪𝓶𝓮.𝓲𝓵𝓸𝓬"
   ]
  },
  {
   "cell_type": "raw",
   "id": "7eda37bc",
   "metadata": {},
   "source": [
    "Purely integer-location based indexing for selection by position.\n",
    "\n",
    ".iloc[] is primarily integer position based (from 0 to length-1 of the axis), but may also be used with a boolean array.\n",
    "\n",
    "Allowed inputs are:\n",
    "\n",
    "* An integer, e.g. 5.\n",
    "\n",
    "* A list or array of integers, e.g. [4, 3, 0].\n",
    "\n",
    "* A slice object with ints, e.g. 1:7.\n",
    "\n",
    "* A boolean array.\n",
    "\n",
    "* A callable function with one argument (the calling Series or DataFrame) and that returns valid output for indexing (one of the above). This is useful in method chains, when you don’t have a reference to the calling object, but would like to base your selection on some value.\n",
    "\n",
    ".iloc will raise IndexError if a requested indexer is out-of-bounds, except slice indexers which allow out-of-bounds indexing (this conforms with python/numpy slice semantics)."
   ]
  },
  {
   "cell_type": "code",
   "execution_count": 21,
   "id": "9bf16fad",
   "metadata": {},
   "outputs": [
    {
     "data": {
      "text/html": [
       "<div>\n",
       "<style scoped>\n",
       "    .dataframe tbody tr th:only-of-type {\n",
       "        vertical-align: middle;\n",
       "    }\n",
       "\n",
       "    .dataframe tbody tr th {\n",
       "        vertical-align: top;\n",
       "    }\n",
       "\n",
       "    .dataframe thead th {\n",
       "        text-align: right;\n",
       "    }\n",
       "</style>\n",
       "<table border=\"1\" class=\"dataframe\">\n",
       "  <thead>\n",
       "    <tr style=\"text-align: right;\">\n",
       "      <th></th>\n",
       "      <th>gingerleaf</th>\n",
       "      <th>spermophile</th>\n",
       "      <th>sesquialteral</th>\n",
       "      <th>pungent</th>\n",
       "      <th>inocarpus</th>\n",
       "      <th>paleoclimatological</th>\n",
       "      <th>sulphostannite</th>\n",
       "      <th>chorometry</th>\n",
       "      <th>unspurred</th>\n",
       "      <th>ghostology</th>\n",
       "    </tr>\n",
       "  </thead>\n",
       "  <tbody>\n",
       "    <tr>\n",
       "      <th>0</th>\n",
       "      <td>345</td>\n",
       "      <td>940</td>\n",
       "      <td>295</td>\n",
       "      <td>292</td>\n",
       "      <td>620</td>\n",
       "      <td>885</td>\n",
       "      <td>348</td>\n",
       "      <td>712</td>\n",
       "      <td>102</td>\n",
       "      <td>331</td>\n",
       "    </tr>\n",
       "    <tr>\n",
       "      <th>1</th>\n",
       "      <td>530</td>\n",
       "      <td>884</td>\n",
       "      <td>247</td>\n",
       "      <td>314</td>\n",
       "      <td>854</td>\n",
       "      <td>999</td>\n",
       "      <td>761</td>\n",
       "      <td>673</td>\n",
       "      <td>676</td>\n",
       "      <td>249</td>\n",
       "    </tr>\n",
       "    <tr>\n",
       "      <th>2</th>\n",
       "      <td>244</td>\n",
       "      <td>143</td>\n",
       "      <td>650</td>\n",
       "      <td>913</td>\n",
       "      <td>391</td>\n",
       "      <td>587</td>\n",
       "      <td>377</td>\n",
       "      <td>418</td>\n",
       "      <td>786</td>\n",
       "      <td>324</td>\n",
       "    </tr>\n",
       "    <tr>\n",
       "      <th>3</th>\n",
       "      <td>211</td>\n",
       "      <td>908</td>\n",
       "      <td>658</td>\n",
       "      <td>728</td>\n",
       "      <td>916</td>\n",
       "      <td>220</td>\n",
       "      <td>191</td>\n",
       "      <td>971</td>\n",
       "      <td>127</td>\n",
       "      <td>87</td>\n",
       "    </tr>\n",
       "    <tr>\n",
       "      <th>4</th>\n",
       "      <td>657</td>\n",
       "      <td>552</td>\n",
       "      <td>184</td>\n",
       "      <td>559</td>\n",
       "      <td>496</td>\n",
       "      <td>608</td>\n",
       "      <td>275</td>\n",
       "      <td>480</td>\n",
       "      <td>703</td>\n",
       "      <td>981</td>\n",
       "    </tr>\n",
       "    <tr>\n",
       "      <th>5</th>\n",
       "      <td>116</td>\n",
       "      <td>579</td>\n",
       "      <td>757</td>\n",
       "      <td>85</td>\n",
       "      <td>924</td>\n",
       "      <td>289</td>\n",
       "      <td>924</td>\n",
       "      <td>131</td>\n",
       "      <td>264</td>\n",
       "      <td>144</td>\n",
       "    </tr>\n",
       "    <tr>\n",
       "      <th>6</th>\n",
       "      <td>728</td>\n",
       "      <td>346</td>\n",
       "      <td>191</td>\n",
       "      <td>804</td>\n",
       "      <td>609</td>\n",
       "      <td>623</td>\n",
       "      <td>783</td>\n",
       "      <td>745</td>\n",
       "      <td>786</td>\n",
       "      <td>977</td>\n",
       "    </tr>\n",
       "    <tr>\n",
       "      <th>7</th>\n",
       "      <td>33</td>\n",
       "      <td>639</td>\n",
       "      <td>765</td>\n",
       "      <td>98</td>\n",
       "      <td>924</td>\n",
       "      <td>260</td>\n",
       "      <td>983</td>\n",
       "      <td>532</td>\n",
       "      <td>689</td>\n",
       "      <td>142</td>\n",
       "    </tr>\n",
       "    <tr>\n",
       "      <th>8</th>\n",
       "      <td>405</td>\n",
       "      <td>289</td>\n",
       "      <td>157</td>\n",
       "      <td>795</td>\n",
       "      <td>18</td>\n",
       "      <td>252</td>\n",
       "      <td>388</td>\n",
       "      <td>363</td>\n",
       "      <td>581</td>\n",
       "      <td>761</td>\n",
       "    </tr>\n",
       "    <tr>\n",
       "      <th>9</th>\n",
       "      <td>58</td>\n",
       "      <td>473</td>\n",
       "      <td>542</td>\n",
       "      <td>962</td>\n",
       "      <td>332</td>\n",
       "      <td>373</td>\n",
       "      <td>443</td>\n",
       "      <td>470</td>\n",
       "      <td>406</td>\n",
       "      <td>117</td>\n",
       "    </tr>\n",
       "  </tbody>\n",
       "</table>\n",
       "</div>"
      ],
      "text/plain": [
       "   gingerleaf  spermophile  sesquialteral  pungent  inocarpus  \\\n",
       "0         345          940            295      292        620   \n",
       "1         530          884            247      314        854   \n",
       "2         244          143            650      913        391   \n",
       "3         211          908            658      728        916   \n",
       "4         657          552            184      559        496   \n",
       "5         116          579            757       85        924   \n",
       "6         728          346            191      804        609   \n",
       "7          33          639            765       98        924   \n",
       "8         405          289            157      795         18   \n",
       "9          58          473            542      962        332   \n",
       "\n",
       "   paleoclimatological  sulphostannite  chorometry  unspurred  ghostology  \n",
       "0                  885             348         712        102         331  \n",
       "1                  999             761         673        676         249  \n",
       "2                  587             377         418        786         324  \n",
       "3                  220             191         971        127          87  \n",
       "4                  608             275         480        703         981  \n",
       "5                  289             924         131        264         144  \n",
       "6                  623             783         745        786         977  \n",
       "7                  260             983         532        689         142  \n",
       "8                  252             388         363        581         761  \n",
       "9                  373             443         470        406         117  "
      ]
     },
     "execution_count": 21,
     "metadata": {},
     "output_type": "execute_result"
    }
   ],
   "source": [
    "df.iloc[0:,0:]"
   ]
  },
  {
   "cell_type": "markdown",
   "id": "443c9ad0",
   "metadata": {},
   "source": [
    "# 8.𝓓𝓪𝓽𝓪𝓕𝓻𝓪𝓶𝓮.𝓲ndex"
   ]
  },
  {
   "cell_type": "raw",
   "id": "6c522881",
   "metadata": {},
   "source": [
    "The index (row labels) of the DataFrame."
   ]
  },
  {
   "cell_type": "code",
   "execution_count": 22,
   "id": "b28a445d",
   "metadata": {},
   "outputs": [
    {
     "data": {
      "text/plain": [
       "RangeIndex(start=0, stop=10, step=1)"
      ]
     },
     "execution_count": 22,
     "metadata": {},
     "output_type": "execute_result"
    }
   ],
   "source": [
    "df.index"
   ]
  },
  {
   "cell_type": "markdown",
   "id": "23daaca6",
   "metadata": {},
   "source": [
    "# 9.𝓓𝓪𝓽𝓪𝓕𝓻𝓪𝓶𝓮.𝓵𝓸𝓬"
   ]
  },
  {
   "cell_type": "raw",
   "id": "28e38e78",
   "metadata": {},
   "source": [
    "Access a group of rows and columns by label(s) or a boolean array.\n",
    "\n",
    ".loc[] is primarily label based, but may also be used with a boolean array.\n",
    "\n",
    "Allowed inputs are:\n",
    "\n",
    "* A single label, e.g. 5 or 'a', (note that 5 is interpreted as a label of the index, and never as an integer position along the index).\n",
    "\n",
    "* A list or array of labels, e.g. ['a', 'b', 'c'].\n",
    "\n",
    "* A slice object with labels, e.g. 'a':'f'.\n",
    " Warning\n",
    "\n",
    "Note that contrary to usual python slices, both the start and the stop are included\n",
    "\n",
    "* A boolean array of the same length as the axis being sliced, e.g. [True, False, True].\n",
    "\n",
    "* An alignable boolean Series. The index of the key will be aligned before masking.\n",
    "\n",
    "* An alignable Index. The Index of the returned selection will be the input.\n",
    "\n",
    "* A callable function with one argument (the calling Series or DataFrame) and that returns valid output for indexing (one of the above)"
   ]
  },
  {
   "cell_type": "code",
   "execution_count": 23,
   "id": "3aba4b2c",
   "metadata": {},
   "outputs": [
    {
     "data": {
      "text/plain": [
       "gingerleaf             116\n",
       "spermophile            579\n",
       "sesquialteral          757\n",
       "pungent                 85\n",
       "inocarpus              924\n",
       "paleoclimatological    289\n",
       "sulphostannite         924\n",
       "chorometry             131\n",
       "unspurred              264\n",
       "ghostology             144\n",
       "Name: 5, dtype: int32"
      ]
     },
     "execution_count": 23,
     "metadata": {},
     "output_type": "execute_result"
    }
   ],
   "source": [
    "df.loc[5]"
   ]
  },
  {
   "cell_type": "markdown",
   "id": "232af20a",
   "metadata": {},
   "source": [
    "# 10.𝓓𝓪𝓽𝓪𝓕𝓻𝓪𝓶𝓮.𝓷𝓭𝓲𝓶"
   ]
  },
  {
   "cell_type": "raw",
   "id": "d4212bd5",
   "metadata": {},
   "source": [
    "Return an int representing the number of axes / array dimensions.\n",
    "\n",
    "Return 1 if Series. Otherwise return 2 if DataFrame."
   ]
  },
  {
   "cell_type": "code",
   "execution_count": 24,
   "id": "d5873881",
   "metadata": {},
   "outputs": [
    {
     "data": {
      "text/plain": [
       "2"
      ]
     },
     "execution_count": 24,
     "metadata": {},
     "output_type": "execute_result"
    }
   ],
   "source": [
    "df.ndim"
   ]
  },
  {
   "cell_type": "markdown",
   "id": "9ea5cf89",
   "metadata": {},
   "source": [
    "# 11.𝓓𝓪𝓽𝓪𝓕𝓻𝓪𝓶𝓮.𝓼𝓱𝓪𝓹𝓮"
   ]
  },
  {
   "cell_type": "raw",
   "id": "bbb8b775",
   "metadata": {},
   "source": [
    "Return a tuple representing the dimensionality of the DataFrame."
   ]
  },
  {
   "cell_type": "code",
   "execution_count": 25,
   "id": "0872877b",
   "metadata": {},
   "outputs": [
    {
     "data": {
      "text/plain": [
       "(10, 10)"
      ]
     },
     "execution_count": 25,
     "metadata": {},
     "output_type": "execute_result"
    }
   ],
   "source": [
    "df.shape"
   ]
  },
  {
   "cell_type": "markdown",
   "id": "8b56163c",
   "metadata": {},
   "source": [
    "# 12.𝓓𝓪𝓽𝓪𝓕𝓻𝓪𝓶𝓮.𝓼𝓲𝔃𝓮"
   ]
  },
  {
   "cell_type": "raw",
   "id": "95cb8e53",
   "metadata": {},
   "source": [
    "Return an int representing the number of elements in this object.\n",
    "\n",
    "Return the number of rows if Series. Otherwise return the number of rows times number of columns if DataFrame."
   ]
  },
  {
   "cell_type": "code",
   "execution_count": 26,
   "id": "48a7d31c",
   "metadata": {},
   "outputs": [
    {
     "data": {
      "text/plain": [
       "100"
      ]
     },
     "execution_count": 26,
     "metadata": {},
     "output_type": "execute_result"
    }
   ],
   "source": [
    "df.size"
   ]
  },
  {
   "cell_type": "markdown",
   "id": "6415563c",
   "metadata": {},
   "source": [
    "# 13.𝓓𝓪𝓽𝓪𝓕𝓻𝓪𝓶𝓮.𝓿𝓪𝓵𝓾𝓮𝓼"
   ]
  },
  {
   "cell_type": "raw",
   "id": "2ca39c39",
   "metadata": {},
   "source": [
    "Return a Numpy representation of the DataFrame."
   ]
  },
  {
   "cell_type": "code",
   "execution_count": 27,
   "id": "3baabf3f",
   "metadata": {},
   "outputs": [
    {
     "data": {
      "text/plain": [
       "array([[345, 940, 295, 292, 620, 885, 348, 712, 102, 331],\n",
       "       [530, 884, 247, 314, 854, 999, 761, 673, 676, 249],\n",
       "       [244, 143, 650, 913, 391, 587, 377, 418, 786, 324],\n",
       "       [211, 908, 658, 728, 916, 220, 191, 971, 127,  87],\n",
       "       [657, 552, 184, 559, 496, 608, 275, 480, 703, 981],\n",
       "       [116, 579, 757,  85, 924, 289, 924, 131, 264, 144],\n",
       "       [728, 346, 191, 804, 609, 623, 783, 745, 786, 977],\n",
       "       [ 33, 639, 765,  98, 924, 260, 983, 532, 689, 142],\n",
       "       [405, 289, 157, 795,  18, 252, 388, 363, 581, 761],\n",
       "       [ 58, 473, 542, 962, 332, 373, 443, 470, 406, 117]])"
      ]
     },
     "execution_count": 27,
     "metadata": {},
     "output_type": "execute_result"
    }
   ],
   "source": [
    "x=df.values\n",
    "x"
   ]
  },
  {
   "cell_type": "markdown",
   "id": "b10feaad",
   "metadata": {},
   "source": [
    "# Read and Write. Tabular data\n"
   ]
  },
  {
   "cell_type": "raw",
   "id": "964cb2bd",
   "metadata": {},
   "source": [
    "pandas supports the integration with many file formats or data sources out of the box (csv, excel, sql, json, parquet,…). Importing data from each of these data sources is provided by function with the prefix read_*. Similarly, the to_* methods are used to store data."
   ]
  },
  {
   "attachments": {
    "image.png": {
     "image/png": "[encoded data removed]"
    }
   },
   "cell_type": "markdown",
   "id": "1f2d9482",
   "metadata": {},
   "source": [
    "![image.png](attachment:image.png)"
   ]
  }
 ],
 "metadata": {
  "kernelspec": {
   "display_name": "Python 3 (ipykernel)",
   "language": "python",
   "name": "python3"
  },
  "language_info": {
   "codemirror_mode": {
    "name": "ipython",
    "version": 3
   },
   "file_extension": ".py",
   "mimetype": "text/x-python",
   "name": "python",
   "nbconvert_exporter": "python",
   "pygments_lexer": "ipython3",
   "version": "3.9.12"
  }
 },
 "nbformat": 4,
 "nbformat_minor": 5
}
